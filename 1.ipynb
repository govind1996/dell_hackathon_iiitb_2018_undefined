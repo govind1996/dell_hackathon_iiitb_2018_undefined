{
 "cells": [
  {
   "cell_type": "code",
   "execution_count": null,
   "metadata": {},
   "outputs": [],
   "source": [
    "import matplotlib.pyplot as plt\n",
    "import numpy as np\n",
    "import pandas as pd\n",
    "import datetime\n",
    "import csv\n",
    "import time"
   ]
  },
  {
   "cell_type": "code",
   "execution_count": null,
   "metadata": {},
   "outputs": [],
   "source": [
    "df=pd.read_csv('data.csv')\n",
    "def change(old):\n",
    "\treturn datetime.datetime.strptime(old , '%m/%d/%Y')\n",
    "df['Date']  = df['Date'].apply(change)\n",
    "print(df['Date'].iloc[0] .date())\n",
    "df=df.sort_values(by=['Date'])\n",
    "#df4=df4[df4['city']=='Moscow']\n",
    "\n",
    "\n",
    "\n",
    "# for i in (df['city'].unique()):\n",
    "#     df1=df[df['city']==i]\n",
    "#     print(i)\n",
    "#     print(df1.head())\n",
    "#     df1.to_csv('category/city/'+ str(i)+'.csv')\n",
    "df.head()\n",
    "\n"
   ]
  },
  {
   "cell_type": "code",
   "execution_count": null,
   "metadata": {},
   "outputs": [],
   "source": [
    "del df['Country1']\n",
    "del df['Order ID']\n",
    "del df['Sales Channel']\n",
    "del df['Order Priority']\n",
    "del df['Ship Date']\n",
    "del df['Unit Cost']\n",
    "del df['Total Cost']\n",
    "del df['Total Profit']\n",
    "del df['Unit Price']"
   ]
  },
  {
   "cell_type": "code",
   "execution_count": null,
   "metadata": {},
   "outputs": [],
   "source": [
    "df.head()\n",
    "df.groupby('Country').count()\n",
    "#del df['Unnamed: 0']\n",
    "df.to_csv('dataset.csv')\n",
    "df1=pd.read_csv('dataset.csv')\n",
    "del df1['Unnamed: 0']"
   ]
  },
  {
   "cell_type": "code",
   "execution_count": null,
   "metadata": {},
   "outputs": [],
   "source": [
    "\n",
    "df1=pd.read_csv('dataset.csv')\n",
    "del df1['Unnamed: 0']\n",
    "df1.head()\n"
   ]
  },
  {
   "cell_type": "code",
   "execution_count": null,
   "metadata": {},
   "outputs": [],
   "source": []
  },
  {
   "cell_type": "code",
   "execution_count": null,
   "metadata": {},
   "outputs": [],
   "source": [
    "\n",
    "for i in (df1['Country'].unique()):\n",
    "    df2=df1[df1['Country']==i]\n",
    "    print(i)\n",
    "    print(df2.head())\n",
    "    df2.to_csv('category/country/'+ str(i)+'.csv')\n"
   ]
  },
  {
   "cell_type": "code",
   "execution_count": null,
   "metadata": {},
   "outputs": [],
   "source": []
  },
  {
   "cell_type": "code",
   "execution_count": null,
   "metadata": {},
   "outputs": [],
   "source": [
    "for i in (df1['Product'].unique()):\n",
    "    df3=df1[df1['Product']==i]\n",
    "    print(i)\n",
    "    print(df3.head())\n",
    "    df3.to_csv('category/product/'+ str(i)+'.csv')\n",
    "    "
   ]
  },
  {
   "cell_type": "code",
   "execution_count": null,
   "metadata": {},
   "outputs": [],
   "source": [
    "# df2= pd.read_csv('base_data.csv')\n",
    "# df2.groupby('product').count().sum()"
   ]
  },
  {
   "cell_type": "code",
   "execution_count": null,
   "metadata": {},
   "outputs": [],
   "source": [
    "df3= pd.read_csv('dataset.csv')"
   ]
  },
  {
   "cell_type": "code",
   "execution_count": null,
   "metadata": {},
   "outputs": [],
   "source": [
    "aggregate_functions= {'Units Sold':'sum','Total Revenue':'sum'}\n",
    "for i in (df3['Country'].unique()):\n",
    "    df4=pd.read_csv('category/country/'+ str(i)+'.csv')\n",
    "    del df4['Product']\n",
    "    print(i)\n",
    "    df5=df4.groupby(['Date']).aggregate(aggregate_functions)\n",
    "    print(df5)\n",
    "    df5.to_csv('category/country/daywise/'+ str(i)+'_daywise.csv')"
   ]
  },
  {
   "cell_type": "code",
   "execution_count": null,
   "metadata": {},
   "outputs": [],
   "source": [
    "aggregate_functions= {'Units Sold':'sum','Total Revenue':'sum'}\n",
    "for i in (df3['Product'].unique()):\n",
    "    df6=pd.read_csv('category/product/'+ str(i)+'.csv')\n",
    "    del df6['Country']\n",
    "    print(i)\n",
    "    df7=df6.groupby(['Date']).aggregate(aggregate_functions)\n",
    "    print(df7)\n",
    "    df7.to_csv('category/product/daywise/'+ str(i)+'_daywise.csv')"
   ]
  },
  {
   "cell_type": "code",
   "execution_count": null,
   "metadata": {},
   "outputs": [],
   "source": [
    "aggregate_functions= {'Units Sold':'sum','Total Revenue':'sum'}\n",
    "for i in (df3['Product'].unique()):\n",
    "    df6=pd.read_csv('category/product/'+ str(i)+'.csv')\n",
    "    del df6['Country']\n",
    "    print(i)\n",
    "    df7=df6.groupby(['Date']).aggregate(aggregate_functions)\n",
    "    print(df7)\n",
    "    df7.to_csv('category/product/daywise/'+ str(i)+'_daywise.csv')"
   ]
  },
  {
   "cell_type": "code",
   "execution_count": null,
   "metadata": {},
   "outputs": [],
   "source": []
  },
  {
   "cell_type": "code",
   "execution_count": null,
   "metadata": {},
   "outputs": [],
   "source": [
    "d1.head()\n"
   ]
  },
  {
   "cell_type": "code",
   "execution_count": null,
   "metadata": {},
   "outputs": [],
   "source": [
    "aggregate_functions= {'Units Sold':'sum','Total Revenue':'sum'}\n",
    "for j in (df3['Country'].unique()):\n",
    "    d1= pd.read_csv('category/country/'+str(j)+ '.csv')\n",
    "    for i in (d1['Product'].unique()):\n",
    "        d3=d1[d1['Product']==i]\n",
    "        d3=d3.groupby(['Date']).aggregate(aggregate_functions)\n",
    "        print(i)\n",
    "        print(d3.head())\n",
    "        d3.to_csv('category/country/productwise/'+ str(j)+ '_'+str(i)+'.csv')\n"
   ]
  },
  {
   "cell_type": "code",
   "execution_count": null,
   "metadata": {},
   "outputs": [],
   "source": []
  },
  {
   "cell_type": "code",
   "execution_count": null,
   "metadata": {},
   "outputs": [],
   "source": [
    "print(dataframe)"
   ]
  },
  {
   "cell_type": "code",
   "execution_count": null,
   "metadata": {},
   "outputs": [],
   "source": []
  }
 ],
 "metadata": {
  "kernelspec": {
   "display_name": "Python 3",
   "language": "python",
   "name": "python3"
  },
  "language_info": {
   "codemirror_mode": {
    "name": "ipython",
    "version": 3
   },
   "file_extension": ".py",
   "mimetype": "text/x-python",
   "name": "python",
   "nbconvert_exporter": "python",
   "pygments_lexer": "ipython3",
   "version": "3.5.2+"
  }
 },
 "nbformat": 4,
 "nbformat_minor": 2
}
