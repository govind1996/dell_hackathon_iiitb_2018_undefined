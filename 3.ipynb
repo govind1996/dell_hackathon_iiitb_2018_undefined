{
 "cells": [
  {
   "cell_type": "code",
   "execution_count": 1,
   "metadata": {},
   "outputs": [],
   "source": [
    "import matplotlib.pyplot as plt\n",
    "import numpy as np\n",
    "import pandas as pd\n",
    "import datetime\n",
    "import csv\n",
    "import time\n",
    "from datetime import timedelta"
   ]
  },
  {
   "cell_type": "code",
   "execution_count": 2,
   "metadata": {},
   "outputs": [],
   "source": [
    "# plt.plot(df[['date']],df[['Total Revenue']])\n",
    "# plt.ylabel('Total Revenue')\n",
    "# plt.xlabel('Date')\n",
    "# plt.savefig('category/product/daywise/Gifts_daywise.jpg')\n",
    "# plt.show()"
   ]
  },
  {
   "cell_type": "code",
   "execution_count": 3,
   "metadata": {},
   "outputs": [],
   "source": [
    "# import matplotlib.pyplot as plt\n",
    "# %matplotlib notebook\n",
    "# dataframe=pd.read_csv('category/country/productwise/China_Chromebook.csv',parse_dates=['Date'])\n",
    "# plt.plot(dataframe[['Date']],dataframe[['Total Revenue']])\n",
    "# plt.ylabel('Total Revenue')\n",
    "# plt.xlabel('Date')\n",
    "# plt.show()\n"
   ]
  },
  {
   "cell_type": "code",
   "execution_count": 4,
   "metadata": {},
   "outputs": [],
   "source": [
    "#type(dataframe['Total Revenue'].iloc[2])"
   ]
  },
  {
   "cell_type": "code",
   "execution_count": 5,
   "metadata": {},
   "outputs": [],
   "source": [
    "df3=pd.read_csv('dataset.csv')\n",
    "for j in (df3['Country'].unique()):\n",
    "    for ii in (df3['Product'].unique()):\n",
    "        df= pd.read_csv('category/country/productwise/'+str(j)+'_'+str(ii)+ '.csv')       \n",
    "        def change(old):\n",
    "            return datetime.datetime.strptime(old , '%Y-%m-%d').date()\n",
    "        df['Date']  = df['Date'].apply(change)\n",
    "        size= df.shape[0]-1\n",
    "        ter=1\n",
    "        #print(size+ter)\n",
    "\n",
    "\n",
    "        for i in range(size):\n",
    "            cd=df['Date'].iloc[i+1]\n",
    "            pt=df['Date'].iloc[i]\n",
    "            #currdate= datetime.datetime.strptime(cd, '%Y-%m-%d').date()\n",
    "            #prevdate= datetime.datetime.strptime(pt, '%Y-%m-%d').date()\n",
    "            #print(currdate,prevdate)\n",
    "            if  cd-pt!= 1:\n",
    "                dd= (cd-pt).days-1\n",
    "                dif1= (df['Total Revenue'].iloc[i+1] - df['Total Revenue'].iloc[i])/(dd+1)\n",
    "                dif2= (df['Units Sold'].iloc[i+1] - df['Units Sold'].iloc[i])/(dd+1)\n",
    "                y=1\n",
    "                while dd > 0:\n",
    "                    var1= df['Total Revenue'].iloc[i] + dif1*y\n",
    "                    var2= int(df['Units Sold'].iloc[i] + dif2*y)\n",
    "                    tempdate= pt+timedelta(days=y)\n",
    "                    y=y+1\n",
    "                    #print(tempdate,var2,var1)\n",
    "                    df=df.append({'Date':tempdate,'Units Sold':var2,'Total Revenue':var1},ignore_index=True)\n",
    "                    dd=dd-1\n",
    "                    ter+=1  \n",
    "        df=df.sort_values(by=['Date'])\n",
    "        df.to_csv('category/country/productwise/'+str(j)+'_'+str(ii)+ '.csv')       "
   ]
  },
  {
   "cell_type": "code",
   "execution_count": null,
   "metadata": {},
   "outputs": [],
   "source": []
  }
 ],
 "metadata": {
  "kernelspec": {
   "display_name": "Python 3",
   "language": "python",
   "name": "python3"
  },
  "language_info": {
   "codemirror_mode": {
    "name": "ipython",
    "version": 3
   },
   "file_extension": ".py",
   "mimetype": "text/x-python",
   "name": "python",
   "nbconvert_exporter": "python",
   "pygments_lexer": "ipython3",
   "version": "3.5.2+"
  }
 },
 "nbformat": 4,
 "nbformat_minor": 2
}
